{
 "cells": [
  {
   "cell_type": "markdown",
   "id": "d33d30c5",
   "metadata": {},
   "source": [
    "# Подключение библиотек"
   ]
  },
  {
   "cell_type": "code",
   "execution_count": 1,
   "id": "4a2289ae",
   "metadata": {},
   "outputs": [],
   "source": [
    "import numpy as np\n",
    "import pandas as pd\n",
    "import matplotlib.pyplot as plt\n",
    "import seaborn as sns\n",
    "from sklearn.svm import SVR\n",
    "import scipy.stats as stats\n",
    "from sklearn.model_selection import train_test_split \n",
    "from sklearn.ensemble import RandomForestRegressor, GradientBoostingRegressor, VotingRegressor\n",
    "from sklearn.neighbors import KNeighborsClassifier, KNeighborsRegressor\n",
    "from sklearn.naive_bayes import GaussianNB, MultinomialNB, BernoulliNB\n",
    "from sklearn.linear_model import LogisticRegression, LinearRegression, Lasso, ElasticNet, Ridge\n",
    "from sklearn.preprocessing import MinMaxScaler,Normalizer, StandardScaler,RobustScaler, OneHotEncoder,OrdinalEncoder, LabelEncoder,PolynomialFeatures,KBinsDiscretizer\n",
    "from sklearn.model_selection import ShuffleSplit, StratifiedShuffleSplit\n",
    "from sklearn.model_selection import cross_val_score\n",
    "from sklearn.pipeline import Pipeline, make_pipeline\n",
    "from sklearn.model_selection import GridSearchCV, KFold,RandomizedSearchCV\n",
    "from sklearn.metrics import classification_report, balanced_accuracy_score,plot_roc_curve, r2_score\n",
    "from sklearn.metrics import recall_score, precision_score, f1_score, confusion_matrix\n",
    "from sklearn.metrics import mean_squared_error, mean_absolute_error, mean_absolute_percentage_error\n",
    "from sklearn.model_selection import validation_curve\n",
    "from sklearn.compose import make_column_transformer,ColumnTransformer\n",
    "import category_encoders as ce\n",
    "from sklearn.ensemble import IsolationForest\n",
    "# убрать предупреждения\n",
    "import warnings\n",
    "warnings.filterwarnings(\"ignore\")"
   ]
  },
  {
   "cell_type": "markdown",
   "id": "1aba9aeb",
   "metadata": {},
   "source": [
    "# Обучение и подгонка моделей"
   ]
  },
  {
   "cell_type": "code",
   "execution_count": 2,
   "id": "9dca8fd1",
   "metadata": {},
   "outputs": [
    {
     "data": {
      "text/plain": [
       "(7236, 17)"
      ]
     },
     "execution_count": 2,
     "metadata": {},
     "output_type": "execute_result"
    }
   ],
   "source": [
    "path_train = 'train.csv'\n",
    "df = pd.read_csv(path_train)\n",
    "df.shape"
   ]
  },
  {
   "cell_type": "code",
   "execution_count": 3,
   "id": "26e20c00",
   "metadata": {},
   "outputs": [
    {
     "data": {
      "text/html": [
       "<div>\n",
       "<style scoped>\n",
       "    .dataframe tbody tr th:only-of-type {\n",
       "        vertical-align: middle;\n",
       "    }\n",
       "\n",
       "    .dataframe tbody tr th {\n",
       "        vertical-align: top;\n",
       "    }\n",
       "\n",
       "    .dataframe thead th {\n",
       "        text-align: right;\n",
       "    }\n",
       "</style>\n",
       "<table border=\"1\" class=\"dataframe\">\n",
       "  <thead>\n",
       "    <tr style=\"text-align: right;\">\n",
       "      <th></th>\n",
       "      <th>ID</th>\n",
       "      <th>Year_of_production</th>\n",
       "      <th>Cylinders</th>\n",
       "      <th>Airbags</th>\n",
       "      <th>Tax</th>\n",
       "      <th>Price</th>\n",
       "    </tr>\n",
       "  </thead>\n",
       "  <tbody>\n",
       "    <tr>\n",
       "      <th>count</th>\n",
       "      <td>7.236000e+03</td>\n",
       "      <td>7236.000000</td>\n",
       "      <td>7236.000000</td>\n",
       "      <td>7236.000000</td>\n",
       "      <td>7236.000000</td>\n",
       "      <td>7236.000000</td>\n",
       "    </tr>\n",
       "    <tr>\n",
       "      <th>mean</th>\n",
       "      <td>4.566946e+07</td>\n",
       "      <td>2013.227059</td>\n",
       "      <td>4.395108</td>\n",
       "      <td>6.276810</td>\n",
       "      <td>861.030127</td>\n",
       "      <td>22019.489635</td>\n",
       "    </tr>\n",
       "    <tr>\n",
       "      <th>std</th>\n",
       "      <td>4.604860e+05</td>\n",
       "      <td>3.034425</td>\n",
       "      <td>1.015389</td>\n",
       "      <td>3.990426</td>\n",
       "      <td>357.471378</td>\n",
       "      <td>14723.508733</td>\n",
       "    </tr>\n",
       "    <tr>\n",
       "      <th>min</th>\n",
       "      <td>3.255807e+07</td>\n",
       "      <td>1965.000000</td>\n",
       "      <td>1.000000</td>\n",
       "      <td>0.000000</td>\n",
       "      <td>87.000000</td>\n",
       "      <td>3500.000000</td>\n",
       "    </tr>\n",
       "    <tr>\n",
       "      <th>25%</th>\n",
       "      <td>4.573043e+07</td>\n",
       "      <td>2011.000000</td>\n",
       "      <td>4.000000</td>\n",
       "      <td>4.000000</td>\n",
       "      <td>640.000000</td>\n",
       "      <td>11604.000000</td>\n",
       "    </tr>\n",
       "    <tr>\n",
       "      <th>50%</th>\n",
       "      <td>4.578219e+07</td>\n",
       "      <td>2013.000000</td>\n",
       "      <td>4.000000</td>\n",
       "      <td>4.000000</td>\n",
       "      <td>777.000000</td>\n",
       "      <td>17876.000000</td>\n",
       "    </tr>\n",
       "    <tr>\n",
       "      <th>75%</th>\n",
       "      <td>4.580327e+07</td>\n",
       "      <td>2015.000000</td>\n",
       "      <td>4.000000</td>\n",
       "      <td>12.000000</td>\n",
       "      <td>1017.000000</td>\n",
       "      <td>28225.000000</td>\n",
       "    </tr>\n",
       "    <tr>\n",
       "      <th>max</th>\n",
       "      <td>4.581665e+07</td>\n",
       "      <td>2020.000000</td>\n",
       "      <td>12.000000</td>\n",
       "      <td>16.000000</td>\n",
       "      <td>5603.000000</td>\n",
       "      <td>83891.000000</td>\n",
       "    </tr>\n",
       "  </tbody>\n",
       "</table>\n",
       "</div>"
      ],
      "text/plain": [
       "                 ID  Year_of_production    Cylinders      Airbags  \\\n",
       "count  7.236000e+03         7236.000000  7236.000000  7236.000000   \n",
       "mean   4.566946e+07         2013.227059     4.395108     6.276810   \n",
       "std    4.604860e+05            3.034425     1.015389     3.990426   \n",
       "min    3.255807e+07         1965.000000     1.000000     0.000000   \n",
       "25%    4.573043e+07         2011.000000     4.000000     4.000000   \n",
       "50%    4.578219e+07         2013.000000     4.000000     4.000000   \n",
       "75%    4.580327e+07         2015.000000     4.000000    12.000000   \n",
       "max    4.581665e+07         2020.000000    12.000000    16.000000   \n",
       "\n",
       "               Tax         Price  \n",
       "count  7236.000000   7236.000000  \n",
       "mean    861.030127  22019.489635  \n",
       "std     357.471378  14723.508733  \n",
       "min      87.000000   3500.000000  \n",
       "25%     640.000000  11604.000000  \n",
       "50%     777.000000  17876.000000  \n",
       "75%    1017.000000  28225.000000  \n",
       "max    5603.000000  83891.000000  "
      ]
     },
     "execution_count": 3,
     "metadata": {},
     "output_type": "execute_result"
    }
   ],
   "source": [
    "df.describe()"
   ]
  },
  {
   "cell_type": "code",
   "execution_count": 4,
   "id": "f45eca86",
   "metadata": {
    "scrolled": false
   },
   "outputs": [
    {
     "data": {
      "text/html": [
       "<div>\n",
       "<style scoped>\n",
       "    .dataframe tbody tr th:only-of-type {\n",
       "        vertical-align: middle;\n",
       "    }\n",
       "\n",
       "    .dataframe tbody tr th {\n",
       "        vertical-align: top;\n",
       "    }\n",
       "\n",
       "    .dataframe thead th {\n",
       "        text-align: right;\n",
       "    }\n",
       "</style>\n",
       "<table border=\"1\" class=\"dataframe\">\n",
       "  <thead>\n",
       "    <tr style=\"text-align: right;\">\n",
       "      <th></th>\n",
       "      <th>ID</th>\n",
       "      <th>Brand</th>\n",
       "      <th>Model</th>\n",
       "      <th>Year_of_production</th>\n",
       "      <th>Type</th>\n",
       "      <th>Leather_interior</th>\n",
       "      <th>Fuel_type</th>\n",
       "      <th>Engine_volume</th>\n",
       "      <th>Mileage</th>\n",
       "      <th>Cylinders</th>\n",
       "      <th>Gear_box</th>\n",
       "      <th>Drive_wheels</th>\n",
       "      <th>Doors</th>\n",
       "      <th>Color</th>\n",
       "      <th>Airbags</th>\n",
       "      <th>Tax</th>\n",
       "      <th>Price</th>\n",
       "    </tr>\n",
       "  </thead>\n",
       "  <tbody>\n",
       "    <tr>\n",
       "      <th>0</th>\n",
       "      <td>45774636</td>\n",
       "      <td>OPEL</td>\n",
       "      <td>Combo</td>\n",
       "      <td>2003</td>\n",
       "      <td>Goods wagon</td>\n",
       "      <td>No</td>\n",
       "      <td>Diesel</td>\n",
       "      <td>1.7</td>\n",
       "      <td>152000 km</td>\n",
       "      <td>4.0</td>\n",
       "      <td>Manual</td>\n",
       "      <td>Front</td>\n",
       "      <td>04-May</td>\n",
       "      <td>Grey</td>\n",
       "      <td>2</td>\n",
       "      <td>1438</td>\n",
       "      <td>9408</td>\n",
       "    </tr>\n",
       "    <tr>\n",
       "      <th>1</th>\n",
       "      <td>45787352</td>\n",
       "      <td>MERCEDES-BENZ</td>\n",
       "      <td>Vito</td>\n",
       "      <td>2008</td>\n",
       "      <td>Minivan</td>\n",
       "      <td>No</td>\n",
       "      <td>Diesel</td>\n",
       "      <td>2.2 Turbo</td>\n",
       "      <td>198700 km</td>\n",
       "      <td>4.0</td>\n",
       "      <td>Manual</td>\n",
       "      <td>Rear</td>\n",
       "      <td>02-Mar</td>\n",
       "      <td>White</td>\n",
       "      <td>6</td>\n",
       "      <td>1195</td>\n",
       "      <td>17000</td>\n",
       "    </tr>\n",
       "    <tr>\n",
       "      <th>2</th>\n",
       "      <td>45393419</td>\n",
       "      <td>TOYOTA</td>\n",
       "      <td>CHR</td>\n",
       "      <td>2018</td>\n",
       "      <td>Jeep</td>\n",
       "      <td>No</td>\n",
       "      <td>Petrol</td>\n",
       "      <td>2</td>\n",
       "      <td>37214 km</td>\n",
       "      <td>4.0</td>\n",
       "      <td>Automatic</td>\n",
       "      <td>Front</td>\n",
       "      <td>04-May</td>\n",
       "      <td>Grey</td>\n",
       "      <td>10</td>\n",
       "      <td>1079</td>\n",
       "      <td>36065</td>\n",
       "    </tr>\n",
       "    <tr>\n",
       "      <th>3</th>\n",
       "      <td>45802407</td>\n",
       "      <td>HYUNDAI</td>\n",
       "      <td>Grandeur</td>\n",
       "      <td>2012</td>\n",
       "      <td>Sedan</td>\n",
       "      <td>Yes</td>\n",
       "      <td>Petrol</td>\n",
       "      <td>3</td>\n",
       "      <td>137235 km</td>\n",
       "      <td>4.0</td>\n",
       "      <td>Automatic</td>\n",
       "      <td>Front</td>\n",
       "      <td>04-May</td>\n",
       "      <td>Silver</td>\n",
       "      <td>4</td>\n",
       "      <td>919</td>\n",
       "      <td>15524</td>\n",
       "    </tr>\n",
       "    <tr>\n",
       "      <th>4</th>\n",
       "      <td>45647870</td>\n",
       "      <td>MERCEDES-BENZ</td>\n",
       "      <td>ML 350</td>\n",
       "      <td>2015</td>\n",
       "      <td>Jeep</td>\n",
       "      <td>Yes</td>\n",
       "      <td>Diesel</td>\n",
       "      <td>3.5</td>\n",
       "      <td>79080 km</td>\n",
       "      <td>6.0</td>\n",
       "      <td>Automatic</td>\n",
       "      <td>4x4</td>\n",
       "      <td>04-May</td>\n",
       "      <td>Grey</td>\n",
       "      <td>12</td>\n",
       "      <td>1273</td>\n",
       "      <td>22894</td>\n",
       "    </tr>\n",
       "    <tr>\n",
       "      <th>...</th>\n",
       "      <td>...</td>\n",
       "      <td>...</td>\n",
       "      <td>...</td>\n",
       "      <td>...</td>\n",
       "      <td>...</td>\n",
       "      <td>...</td>\n",
       "      <td>...</td>\n",
       "      <td>...</td>\n",
       "      <td>...</td>\n",
       "      <td>...</td>\n",
       "      <td>...</td>\n",
       "      <td>...</td>\n",
       "      <td>...</td>\n",
       "      <td>...</td>\n",
       "      <td>...</td>\n",
       "      <td>...</td>\n",
       "      <td>...</td>\n",
       "    </tr>\n",
       "    <tr>\n",
       "      <th>7231</th>\n",
       "      <td>45768179</td>\n",
       "      <td>LEXUS</td>\n",
       "      <td>CT 200h</td>\n",
       "      <td>2014</td>\n",
       "      <td>Hatchback</td>\n",
       "      <td>Yes</td>\n",
       "      <td>Hybrid</td>\n",
       "      <td>1.8</td>\n",
       "      <td>132563 km</td>\n",
       "      <td>4.0</td>\n",
       "      <td>Automatic</td>\n",
       "      <td>Front</td>\n",
       "      <td>04-May</td>\n",
       "      <td>Red</td>\n",
       "      <td>0</td>\n",
       "      <td>308</td>\n",
       "      <td>11447</td>\n",
       "    </tr>\n",
       "    <tr>\n",
       "      <th>7232</th>\n",
       "      <td>45621866</td>\n",
       "      <td>HYUNDAI</td>\n",
       "      <td>Sonata</td>\n",
       "      <td>2014</td>\n",
       "      <td>Sedan</td>\n",
       "      <td>No</td>\n",
       "      <td>Petrol</td>\n",
       "      <td>2.4</td>\n",
       "      <td>148800 km</td>\n",
       "      <td>4.0</td>\n",
       "      <td>Tiptronic</td>\n",
       "      <td>Front</td>\n",
       "      <td>04-May</td>\n",
       "      <td>Black</td>\n",
       "      <td>6</td>\n",
       "      <td>749</td>\n",
       "      <td>18503</td>\n",
       "    </tr>\n",
       "    <tr>\n",
       "      <th>7233</th>\n",
       "      <td>45732832</td>\n",
       "      <td>HYUNDAI</td>\n",
       "      <td>Sonata</td>\n",
       "      <td>2015</td>\n",
       "      <td>Sedan</td>\n",
       "      <td>Yes</td>\n",
       "      <td>LPG</td>\n",
       "      <td>2</td>\n",
       "      <td>283895 km</td>\n",
       "      <td>4.0</td>\n",
       "      <td>Automatic</td>\n",
       "      <td>Front</td>\n",
       "      <td>04-May</td>\n",
       "      <td>Silver</td>\n",
       "      <td>4</td>\n",
       "      <td>765</td>\n",
       "      <td>15367</td>\n",
       "    </tr>\n",
       "    <tr>\n",
       "      <th>7234</th>\n",
       "      <td>45802992</td>\n",
       "      <td>HYUNDAI</td>\n",
       "      <td>Santa FE</td>\n",
       "      <td>2010</td>\n",
       "      <td>Jeep</td>\n",
       "      <td>Yes</td>\n",
       "      <td>Diesel</td>\n",
       "      <td>2</td>\n",
       "      <td>229398 km</td>\n",
       "      <td>4.0</td>\n",
       "      <td>Automatic</td>\n",
       "      <td>Front</td>\n",
       "      <td>04-May</td>\n",
       "      <td>Black</td>\n",
       "      <td>4</td>\n",
       "      <td>836</td>\n",
       "      <td>19008</td>\n",
       "    </tr>\n",
       "    <tr>\n",
       "      <th>7235</th>\n",
       "      <td>45644818</td>\n",
       "      <td>TOYOTA</td>\n",
       "      <td>Highlander</td>\n",
       "      <td>2011</td>\n",
       "      <td>Sedan</td>\n",
       "      <td>Yes</td>\n",
       "      <td>Hybrid</td>\n",
       "      <td>3.5</td>\n",
       "      <td>368064 km</td>\n",
       "      <td>6.0</td>\n",
       "      <td>Automatic</td>\n",
       "      <td>4x4</td>\n",
       "      <td>04-May</td>\n",
       "      <td>Grey</td>\n",
       "      <td>12</td>\n",
       "      <td>1172</td>\n",
       "      <td>21639</td>\n",
       "    </tr>\n",
       "  </tbody>\n",
       "</table>\n",
       "<p>7236 rows × 17 columns</p>\n",
       "</div>"
      ],
      "text/plain": [
       "            ID          Brand       Model  Year_of_production         Type  \\\n",
       "0     45774636           OPEL       Combo                2003  Goods wagon   \n",
       "1     45787352  MERCEDES-BENZ        Vito                2008      Minivan   \n",
       "2     45393419         TOYOTA         CHR                2018         Jeep   \n",
       "3     45802407        HYUNDAI    Grandeur                2012        Sedan   \n",
       "4     45647870  MERCEDES-BENZ      ML 350                2015         Jeep   \n",
       "...        ...            ...         ...                 ...          ...   \n",
       "7231  45768179          LEXUS     CT 200h                2014    Hatchback   \n",
       "7232  45621866        HYUNDAI      Sonata                2014        Sedan   \n",
       "7233  45732832        HYUNDAI      Sonata                2015        Sedan   \n",
       "7234  45802992        HYUNDAI    Santa FE                2010         Jeep   \n",
       "7235  45644818         TOYOTA  Highlander                2011        Sedan   \n",
       "\n",
       "     Leather_interior Fuel_type Engine_volume    Mileage  Cylinders  \\\n",
       "0                  No    Diesel           1.7  152000 km        4.0   \n",
       "1                  No    Diesel     2.2 Turbo  198700 km        4.0   \n",
       "2                  No    Petrol             2   37214 km        4.0   \n",
       "3                 Yes    Petrol             3  137235 km        4.0   \n",
       "4                 Yes    Diesel           3.5   79080 km        6.0   \n",
       "...               ...       ...           ...        ...        ...   \n",
       "7231              Yes    Hybrid           1.8  132563 km        4.0   \n",
       "7232               No    Petrol           2.4  148800 km        4.0   \n",
       "7233              Yes       LPG             2  283895 km        4.0   \n",
       "7234              Yes    Diesel             2  229398 km        4.0   \n",
       "7235              Yes    Hybrid           3.5  368064 km        6.0   \n",
       "\n",
       "       Gear_box Drive_wheels   Doors   Color  Airbags   Tax  Price  \n",
       "0        Manual        Front  04-May    Grey        2  1438   9408  \n",
       "1        Manual         Rear  02-Mar   White        6  1195  17000  \n",
       "2     Automatic        Front  04-May    Grey       10  1079  36065  \n",
       "3     Automatic        Front  04-May  Silver        4   919  15524  \n",
       "4     Automatic          4x4  04-May    Grey       12  1273  22894  \n",
       "...         ...          ...     ...     ...      ...   ...    ...  \n",
       "7231  Automatic        Front  04-May     Red        0   308  11447  \n",
       "7232  Tiptronic        Front  04-May   Black        6   749  18503  \n",
       "7233  Automatic        Front  04-May  Silver        4   765  15367  \n",
       "7234  Automatic        Front  04-May   Black        4   836  19008  \n",
       "7235  Automatic          4x4  04-May    Grey       12  1172  21639  \n",
       "\n",
       "[7236 rows x 17 columns]"
      ]
     },
     "execution_count": 4,
     "metadata": {},
     "output_type": "execute_result"
    }
   ],
   "source": [
    "df"
   ]
  },
  {
   "cell_type": "code",
   "execution_count": 5,
   "id": "af7fe8a3",
   "metadata": {},
   "outputs": [],
   "source": [
    "def engvol(s):\n",
    "    global b\n",
    "    if len(s) >= 3:\n",
    "        b = float(s[0]+s[1] +s[2])\n",
    "    elif len(s) == 1:\n",
    "        b = float(s[0])\n",
    "    return (b)\n",
    "df['Engine_volume'] = [engvol(i) for i in df['Engine_volume']]"
   ]
  },
  {
   "cell_type": "code",
   "execution_count": 6,
   "id": "b4750aa7",
   "metadata": {},
   "outputs": [],
   "source": [
    "def doors(s):\n",
    "    a = float(s[1])\n",
    "    return (a)\n",
    "df['Doors'] = [doors(i) for i in df['Doors']]"
   ]
  },
  {
   "cell_type": "code",
   "execution_count": 7,
   "id": "a2309f42",
   "metadata": {},
   "outputs": [],
   "source": [
    "for i in df['Mileage'].index:\n",
    "    df['Mileage'][i] = int(df['Mileage'][i].replace(' km',''))\n",
    "df = df.astype({'Mileage':'float'})"
   ]
  },
  {
   "cell_type": "code",
   "execution_count": 8,
   "id": "5ba064e7",
   "metadata": {},
   "outputs": [],
   "source": [
    "df['Leather_interior'] = np.where(df['Leather_interior'] == \"Yes\",1,0)"
   ]
  },
  {
   "cell_type": "code",
   "execution_count": 9,
   "id": "7c7a5248",
   "metadata": {},
   "outputs": [
    {
     "data": {
      "text/plain": [
       "ID                      int64\n",
       "Brand                  object\n",
       "Model                  object\n",
       "Year_of_production      int64\n",
       "Type                   object\n",
       "Leather_interior        int32\n",
       "Fuel_type              object\n",
       "Engine_volume         float64\n",
       "Mileage               float64\n",
       "Cylinders             float64\n",
       "Gear_box               object\n",
       "Drive_wheels           object\n",
       "Doors                 float64\n",
       "Color                  object\n",
       "Airbags                 int64\n",
       "Tax                     int64\n",
       "Price                   int64\n",
       "dtype: object"
      ]
     },
     "execution_count": 9,
     "metadata": {},
     "output_type": "execute_result"
    }
   ],
   "source": [
    "df.dtypes"
   ]
  },
  {
   "cell_type": "markdown",
   "id": "71805a14",
   "metadata": {},
   "source": [
    "# preprocessing"
   ]
  },
  {
   "cell_type": "code",
   "execution_count": 10,
   "id": "4b2cd28b",
   "metadata": {},
   "outputs": [],
   "source": [
    "numcol = ['Year_of_production','Mileage','Engine_volume','Airbags','Tax' ]\n",
    "ct = ColumnTransformer([\n",
    "      ('ord', OrdinalEncoder(handle_unknown='use_encoded_value',unknown_value=564),\n",
    "      ['Model','Brand','Fuel_type','Gear_box','Drive_wheels','Color','Type']),\n",
    "      ('scale', StandardScaler(),\n",
    "      numcol)\n",
    "      ],\n",
    "      remainder='passthrough')"
   ]
  },
  {
   "cell_type": "code",
   "execution_count": 11,
   "id": "b469afc7",
   "metadata": {},
   "outputs": [],
   "source": [
    "df.drop(df[df.Mileage>500000].index, inplace = True)"
   ]
  },
  {
   "cell_type": "markdown",
   "id": "8352e4ba",
   "metadata": {},
   "source": [
    "### убираем аномалии"
   ]
  },
  {
   "cell_type": "code",
   "execution_count": 12,
   "id": "89e15c9e",
   "metadata": {},
   "outputs": [],
   "source": [
    "def anomalies_report(anomalies):\n",
    "    return print(\"Аномалий: {}\\nПроцент аномалий:   {:.2f}%\".format(sum(anomalies), 100*np.mean(anomalies))) "
   ]
  },
  {
   "cell_type": "code",
   "execution_count": 13,
   "id": "32aff1e2",
   "metadata": {},
   "outputs": [],
   "source": [
    "df_scaled = ct.fit_transform(df)\n",
    "df_scaled = pd.DataFrame(df_scaled, columns=ct.get_feature_names_out())"
   ]
  },
  {
   "cell_type": "code",
   "execution_count": 14,
   "id": "20fb24ba",
   "metadata": {},
   "outputs": [
    {
     "name": "stdout",
     "output_type": "stream",
     "text": [
      "Аномалий: 357\n",
      "Процент аномалий:   5.01%\n"
     ]
    }
   ],
   "source": [
    "isolation_forest = IsolationForest(n_estimators=100, \n",
    "                                   contamination=0.05, \n",
    "                                   #max_features=1, \n",
    "                                   #bootstrap=True\n",
    "                                  )\n",
    "isolation_forest.fit(df_scaled.values)\n",
    "\n",
    "isolation_predict = isolation_forest.predict(df_scaled.values)\n",
    "anomalies = np.where(isolation_predict < 0, True, False)\n",
    "anomalies_report(anomalies)"
   ]
  },
  {
   "cell_type": "code",
   "execution_count": 15,
   "id": "5d7c17f0",
   "metadata": {},
   "outputs": [],
   "source": [
    "isolation_data = df_scaled.copy()\n",
    "isolation_data['is_anomalies'] = anomalies\n",
    "\n",
    "#sns.pairplot(data=isolation_data,\n",
    "#             hue ='is_anomalies', hue_order=[1, 0], \n",
    "#             diag_kind=\"kde\",\n",
    "#             diag_kws=dict(common_norm=False), \n",
    "#             markers=['o','X'],  palette='bright');"
   ]
  },
  {
   "cell_type": "code",
   "execution_count": 16,
   "id": "485e013e",
   "metadata": {},
   "outputs": [],
   "source": [
    "mask_anomaly = np.where(isolation_predict < 0, False, True)\n",
    "df = df.iloc[mask_anomaly]"
   ]
  },
  {
   "cell_type": "code",
   "execution_count": 17,
   "id": "1c76f27b",
   "metadata": {},
   "outputs": [],
   "source": [
    "y = df['Price']\n",
    "X = df.drop(columns=['ID', 'Price'])"
   ]
  },
  {
   "cell_type": "markdown",
   "id": "0c519f60",
   "metadata": {},
   "source": [
    "### отбираем фичи"
   ]
  },
  {
   "cell_type": "code",
   "execution_count": 18,
   "id": "78dc396c",
   "metadata": {},
   "outputs": [
    {
     "data": {
      "image/png": "[encoded data removed]",
      "text/plain": [
       "<Figure size 1080x576 with 1 Axes>"
      ]
     },
     "metadata": {
      "needs_background": "light"
     },
     "output_type": "display_data"
    }
   ],
   "source": [
    "X_train, X_test, y_train, y_test = train_test_split(ct.fit_transform(X), y, random_state=0, test_size=.3)\n",
    "\n",
    "rfc = RandomForestRegressor(n_estimators=100, random_state=42)\n",
    "rfc.fit(X_train,y_train)\n",
    "\n",
    "plt.figure(figsize=(15,8))\n",
    "feature_names = np.array(ct.get_feature_names_out())  #X.columns)\n",
    "#importance = rfc.feature_importances_\n",
    "\n",
    "importance = np.sort(rfc.feature_importances_)\n",
    "importance_name = np.argsort(rfc.feature_importances_)\n",
    "\n",
    "plt.barh(width=importance, y = feature_names[importance_name] )\n",
    "ax = plt.gca()\n",
    "ax.invert_yaxis()\n",
    "plt.title(\"Важность признаков\")\n",
    "plt.show()"
   ]
  },
  {
   "cell_type": "code",
   "execution_count": 19,
   "id": "2d61b207",
   "metadata": {},
   "outputs": [],
   "source": [
    "y = df['Price']\n",
    "X = df[['Gear_box','Brand','Type','Airbags','Tax','Model','Fuel_type','Engine_volume','Mileage','Year_of_production']]"
   ]
  },
  {
   "cell_type": "code",
   "execution_count": 20,
   "id": "a7d8a468",
   "metadata": {},
   "outputs": [
    {
     "data": {
      "text/plain": [
       "((4736, 10), (4736,))"
      ]
     },
     "execution_count": 20,
     "metadata": {},
     "output_type": "execute_result"
    }
   ],
   "source": [
    "X_train, X_test, y_train, y_test = train_test_split(X,y, test_size=.3)\n",
    "X_train.shape, y_train.shape"
   ]
  },
  {
   "cell_type": "code",
   "execution_count": 21,
   "id": "17932d0d",
   "metadata": {},
   "outputs": [],
   "source": [
    "numcol = ['Year_of_production','Mileage','Engine_volume','Airbags','Tax' ]\n",
    "ct = ColumnTransformer([\n",
    "      ('ord', OrdinalEncoder(handle_unknown='use_encoded_value',unknown_value=564),\n",
    "      ['Model','Brand','Fuel_type','Gear_box','Type']),\n",
    "      ('scale', StandardScaler(),\n",
    "      numcol)\n",
    "      ],\n",
    "      remainder='passthrough')\n",
    "ctrf = ColumnTransformer([\n",
    "     ('ord', OrdinalEncoder(handle_unknown='use_encoded_value',unknown_value=564),\n",
    "      ['Model','Brand','Fuel_type','Gear_box','Type'])\n",
    "      ],\n",
    "      remainder='passthrough')\n"
   ]
  },
  {
   "cell_type": "markdown",
   "id": "13861d5e",
   "metadata": {},
   "source": [
    "# RandomForest"
   ]
  },
  {
   "cell_type": "code",
   "execution_count": 21,
   "id": "d7d5549d",
   "metadata": {},
   "outputs": [
    {
     "name": "stdout",
     "output_type": "stream",
     "text": [
      "{'reg__n_estimators': 200, 'reg__min_samples_split': 6, 'reg__min_samples_leaf': 1, 'reg__max_features': 'auto', 'reg__max_depth': None} -0.31234464707954973\n",
      "-0.15583973888076447 -0.2861562975247001\n",
      "RF mape:  0.2861562975247001\n",
      "RF r2 score:  0.7796636359098645\n"
     ]
    }
   ],
   "source": [
    "pipe = Pipeline([('preprocessing', ctrf),\n",
    "                    ('reg', RandomForestRegressor())])\n",
    "\n",
    "max_features = ['auto', 'sqrt']\n",
    "max_depth =[2,3,4,5,6,7]\n",
    "max_depth.append(None)\n",
    "min_samples_split = [2, 5, 6,]\n",
    "min_samples_leaf = [1, 2, 3,4,5]\n",
    "\n",
    "random_grid = {\n",
    "               'reg__n_estimators': n_estimators,\n",
    "               'reg__max_features': max_features,\n",
    "               'reg__max_depth': max_depth,\n",
    "               'reg__min_samples_split': min_samples_split,\n",
    "               'reg__min_samples_leaf': min_samples_leaf,\n",
    "               }\n",
    "grid = RandomizedSearchCV(pipe, random_grid, cv = 5, n_jobs = -1, scoring='neg_mean_absolute_percentage_error')\n",
    "grid.fit(X_train,y_train)\n",
    "print(grid.best_params_ , grid.best_score_)\n",
    "print(grid.score(X_train,y_train), grid.score(X_test,y_test))  \n",
    "y_pred= grid.predict(X_test)\n",
    "print('RF mape: ', mean_absolute_percentage_error(y_test,y_pred))\n",
    "print('RF r2 score: ', r2_score(y_test, y_pred))"
   ]
  },
  {
   "cell_type": "code",
   "execution_count": 23,
   "id": "cb1c0cb6",
   "metadata": {},
   "outputs": [
    {
     "name": "stdout",
     "output_type": "stream",
     "text": [
      "RF mape:  0.285491597394408\n",
      "RF r2 score:  0.7788806104766227\n"
     ]
    }
   ],
   "source": [
    "piperf = make_pipeline(ctrf, RandomForestRegressor(n_estimators=200, min_samples_split=6,min_samples_leaf=1, max_features='auto'))\n",
    "piperf.fit(X_train,y_train)\n",
    "y_pred = piperf.predict(X_test)\n",
    "print('RF mape: ', mean_absolute_percentage_error(y_test,y_pred))\n",
    "print('RF r2 score: ', r2_score(y_test, y_pred))"
   ]
  },
  {
   "cell_type": "markdown",
   "id": "3b3ec1f9",
   "metadata": {},
   "source": [
    "# GB"
   ]
  },
  {
   "cell_type": "code",
   "execution_count": 24,
   "id": "bec93d43",
   "metadata": {},
   "outputs": [
    {
     "name": "stdout",
     "output_type": "stream",
     "text": [
      "Fitting 5 folds for each of 10 candidates, totalling 50 fits\n",
      "{'reg__min_samples_leaf': 5, 'reg__max_features': 2, 'reg__max_depth': None, 'reg__learning_rate': 0.1}\n",
      "-0.07479803174061142 -0.2572618879916269\n",
      "GB mape:  0.2572618879916269\n",
      "GB r2 score:  0.7848884024091677\n"
     ]
    }
   ],
   "source": [
    "pipe = Pipeline([('preprocessing', ct),\n",
    "                    ('reg', GradientBoostingRegressor())])\n",
    "\n",
    "\n",
    "max_features = [1,2,3]\n",
    "max_depth = [2,3,4]\n",
    "max_depth.append(None)\n",
    "min_samples_split = [1,3, 2]\n",
    "min_samples_leaf = [4, 5, 6]\n",
    "learning_rate = [0.0001, 0.001, 0.01, 0.1, 0.2, 0.3]\n",
    "\n",
    "random_grid = {\n",
    "               'reg__learning_rate':learning_rate,\n",
    "               'reg__max_features': max_features,\n",
    "               'reg__max_depth': max_depth,\n",
    "               #'reg__min_samples_split': min_samples_split,\n",
    "               'reg__min_samples_leaf': min_samples_leaf,\n",
    "               }\n",
    "grid = RandomizedSearchCV(pipe, random_grid, cv =5, verbose=2, n_jobs = -1, scoring = 'neg_mean_absolute_percentage_error', random_state=42)\n",
    "grid.fit(X_train,y_train)\n",
    "print( grid.best_params_)\n",
    "print(grid.score(X_train,y_train), grid.score(X_test,y_test)) \n",
    "y_pred= grid.predict(X_test)\n",
    "print('GB mape: ', mean_absolute_percentage_error(y_test,y_pred))\n",
    "print('GB r2 score: ', r2_score(y_test, y_pred))"
   ]
  },
  {
   "cell_type": "code",
   "execution_count": 26,
   "id": "7926bf90",
   "metadata": {},
   "outputs": [
    {
     "name": "stdout",
     "output_type": "stream",
     "text": [
      "RF mape:  0.25523647014785755\n",
      "RF r2 score:  0.7790133328613124\n"
     ]
    }
   ],
   "source": [
    "pipegb = make_pipeline(ct, GradientBoostingRegressor(max_depth=None, max_features=2, min_samples_leaf=5,\n",
    "                          n_estimators=200))\n",
    "pipegb.fit(X_train,y_train)\n",
    "y_pred = pipegb.predict(X_test)\n",
    "print('RF mape: ', mean_absolute_percentage_error(y_test,y_pred))\n",
    "print('RF r2 score: ', r2_score(y_test, y_pred))"
   ]
  },
  {
   "cell_type": "markdown",
   "id": "f32fb1e1",
   "metadata": {},
   "source": [
    "# SVR"
   ]
  },
  {
   "cell_type": "code",
   "execution_count": 37,
   "id": "8afd144e",
   "metadata": {},
   "outputs": [
    {
     "name": "stdout",
     "output_type": "stream",
     "text": [
      "Fitting 3 folds for each of 40 candidates, totalling 120 fits\n",
      "{'reg__C': 10000, 'reg__gamma': 0.6, 'reg__kernel': 'rbf'}\n",
      "-0.14401035873007656 -0.3049822360974515\n",
      "SVR mape:  0.3049822360974515\n",
      "SVR r2 score:  0.6460202223813849\n"
     ]
    }
   ],
   "source": [
    "pipe = Pipeline([('preprocessing', ct),\n",
    "                    ('reg', SVR())])\n",
    "\n",
    "random_grid = {'reg__kernel': ['rbf'], \n",
    "               'reg__gamma': [1e-4, 1e-3, 0.01, 0.1, 0.2, 0.5, 0.6, 0.9],\n",
    "               'reg__C': [1, 10, 100, 1000, 10000]}\n",
    "\n",
    "grid = GridSearchCV(pipe, random_grid, cv = 3, verbose=2, n_jobs = -1, scoring = 'neg_mean_absolute_percentage_error')\n",
    "grid.fit(X_train,y_train)\n",
    "print( grid.best_params_)\n",
    "print(grid.score(X_train,y_train), grid.score(X_test,y_test)) \n",
    "y_pred= grid.predict(X_test)\n",
    "print('SVR mape: ', mean_absolute_percentage_error(y_test,y_pred))\n",
    "print('SVR r2 score: ', r2_score(y_test, y_pred))"
   ]
  },
  {
   "cell_type": "markdown",
   "id": "fae2e70d",
   "metadata": {},
   "source": [
    "# Linear"
   ]
  },
  {
   "cell_type": "code",
   "execution_count": 26,
   "id": "c8af4f0a",
   "metadata": {},
   "outputs": [
    {
     "name": "stdout",
     "output_type": "stream",
     "text": [
      "{'preprocessing__scale': MinMaxScaler(), 'reg': Lasso(alpha=10), 'reg__alpha': 10} -0.636623189054873\n",
      "Linear mape:  0.6598573810559787\n",
      "Linear r2 score:  0.3586593630252066\n"
     ]
    }
   ],
   "source": [
    "pipe = Pipeline([('preprocessing', ct),\n",
    "                    ('reg', Lasso())])\n",
    "\n",
    "alpha = [0.01, 0.05, 0.1, 0.15, 0.2, 1, 10]\n",
    "scaling = [MinMaxScaler(), StandardScaler(),RobustScaler(), Normalizer()]\n",
    "\n",
    "param_grid = [ \n",
    "    {'preprocessing__scale':scaling,\n",
    "     'reg': [ElasticNet(), Lasso(), Ridge()],\n",
    "     'reg__alpha':alpha}]\n",
    "grid = GridSearchCV(pipe, param_grid, cv=5,  n_jobs=-1, scoring = 'neg_mean_absolute_percentage_error')\n",
    "grid.fit(X_train,y_train)\n",
    "print(grid.best_params_ , grid.best_score_)\n",
    "y_pred= grid.predict(X_test)\n",
    "print('Linear mape: ', mean_absolute_percentage_error(y_test,y_pred))\n",
    "print('Linear r2 score: ', r2_score(y_test, y_pred))"
   ]
  },
  {
   "cell_type": "code",
   "execution_count": null,
   "id": "cbb444a9",
   "metadata": {},
   "outputs": [],
   "source": []
  },
  {
   "cell_type": "markdown",
   "id": "8c03b66a",
   "metadata": {},
   "source": [
    "лучшие показатели в GradientBoosting"
   ]
  }
 ],
 "metadata": {
  "kernelspec": {
   "display_name": "Python 3 (ipykernel)",
   "language": "python",
   "name": "python3"
  },
  "language_info": {
   "codemirror_mode": {
    "name": "ipython",
    "version": 3
   },
   "file_extension": ".py",
   "mimetype": "text/x-python",
   "name": "python",
   "nbconvert_exporter": "python",
   "pygments_lexer": "ipython3",
   "version": "3.9.7"
  }
 },
 "nbformat": 4,
 "nbformat_minor": 5
}
